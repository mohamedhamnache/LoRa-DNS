{
 "cells": [
  {
   "cell_type": "code",
   "execution_count": 13,
   "metadata": {},
   "outputs": [
    {
     "name": "stdout",
     "output_type": "stream",
     "text": [
      "CPUs:  8\n",
      "Memory:  16595992576\n",
      "(28.0, 65.4859522636605)\n",
      "(0.0, 0.5181210319673741)\n"
     ]
    }
   ],
   "source": [
    "import psutil\n",
    "\n",
    "cpu_nums = psutil.cpu_count()\n",
    "print('CPUs: ',cpu_nums)\n",
    "max_mem = psutil.virtual_memory().total\n",
    "print('Memory: ',max_mem)\n",
    "pids =[2922]\n",
    "plist = [psutil.Process(pid) for pid in pids]\n",
    "\n",
    "\n",
    "def get_system_info(max_mem):\n",
    "    cpu_percent = psutil.cpu_percent(interval=0.0, percpu=False)\n",
    "    mem_percent = float(psutil.virtual_memory().used) / max_mem * 100\n",
    "    return cpu_percent, mem_percent\n",
    "\n",
    "def get_process_info(p,cpu_nums):\n",
    "    if p.is_running:\n",
    "        cpu_percent = p.cpu_percent(interval=0.0) / cpu_nums\n",
    "        mem_percent = p.memory_percent()\n",
    "    else:\n",
    "        cpu_percent = 0.0\n",
    "        mem_percent = 0.0\n",
    "    return cpu_percent, mem_percent\n",
    "\n",
    "\n",
    "\n",
    "\n",
    "\n",
    "\n",
    "sys_info = get_system_info(max_mem)\n",
    "print(sys_info)\n",
    "proc_info = get_process_info(plist[0],cpu_nums)\n",
    "print(proc_info)"
   ]
  }
 ],
 "metadata": {
  "kernelspec": {
   "display_name": "Python 3.7.4 64-bit ('base': conda)",
   "language": "python",
   "name": "python37464bitbaseconda2ce7be06abff4ec49ce4575b51c074e1"
  },
  "language_info": {
   "codemirror_mode": {
    "name": "ipython",
    "version": 3
   },
   "file_extension": ".py",
   "mimetype": "text/x-python",
   "name": "python",
   "nbconvert_exporter": "python",
   "pygments_lexer": "ipython3",
   "version": "3.7.4"
  }
 },
 "nbformat": 4,
 "nbformat_minor": 4
}
