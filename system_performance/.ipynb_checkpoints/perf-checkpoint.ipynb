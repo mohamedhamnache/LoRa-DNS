{
 "cells": [
  {
   "cell_type": "code",
   "execution_count": null,
   "metadata": {},
   "outputs": [],
   "source": [
    "import psutil\n",
    "\n",
    "cpu_nums = psutil.cpu_count()\n",
    "print(cpu_nums)\n",
    "max_mem = psutil.virtual_memory().total\n",
    "print(max_mem)\n",
    "pids =[2922]\n",
    "plist = [psutil.Process(pid) for pid in pids]\n",
    "\n",
    "sys_info = get_system_info()\n",
    "print(sys_info)\n",
    "proc_info = get_processes_info()\n",
    "print(proc_info)"
   ]
  }
 ],
 "metadata": {
  "kernelspec": {
   "display_name": "Python 3.7.4 64-bit ('base': conda)",
   "language": "python",
   "name": "python37464bitbaseconda2ce7be06abff4ec49ce4575b51c074e1"
  },
  "language_info": {
   "codemirror_mode": {
    "name": "ipython",
    "version": 3
   },
   "file_extension": ".py",
   "mimetype": "text/x-python",
   "name": "python",
   "nbconvert_exporter": "python",
   "pygments_lexer": "ipython3",
   "version": "3.7.4"
  }
 },
 "nbformat": 4,
 "nbformat_minor": 4
}
